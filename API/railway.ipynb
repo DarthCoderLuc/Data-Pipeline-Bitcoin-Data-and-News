{
 "cells": [
  {
   "cell_type": "code",
   "execution_count": 9,
   "metadata": {},
   "outputs": [],
   "source": [
    "from Scraping_Bitcoin_News import get_bitcoin_news \n",
    "from alphadvantage_crypto import get_crypto_data\n",
    "import psycopg2\n",
    "from psycopg2 import sql\n",
    "from dotenv import load_dotenv\n",
    "import os"
   ]
  },
  {
   "cell_type": "code",
   "execution_count": 2,
   "metadata": {},
   "outputs": [],
   "source": [
    "# make sure to load dotenv\n",
    "load_dotenv()\n",
    "\n",
    "# Database connection paramete(s\n",
    "Database_URL = os.getenv('URL_Railway')\n",
    "\n",
    "#connect to database\n",
    "conn = psycopg2.connect(Database_URL)\n",
    "cur = conn.cursor()\n",
    "\n",
    "#create tables if they don't exist\n",
    "\n",
    "cur.execute('''\n",
    "CREATE TABLE IF NOT EXISTS bitcoin_prices(\n",
    "    date DATE PRIMARY KEY,\n",
    "    open FLOAT,\n",
    "    high FLOAT,\n",
    "    low FLOAT,\n",
    "    close FLOAT,\n",
    "    volume FLOAT\n",
    "    \n",
    ")            \n",
    "''')\n",
    "\n",
    "cur.execute('''\n",
    "CREATE TABLE IF NOT EXISTS bitcoin_news(\n",
    "    id SERIAL PRIMARY KEY,\n",
    "    date DATE,\n",
    "    headline TEXT,\n",
    "    subheadline TEXT\n",
    "    \n",
    ")            \n",
    "''')\n",
    "\n",
    "conn.commit()"
   ]
  },
  {
   "cell_type": "code",
   "execution_count": 7,
   "metadata": {},
   "outputs": [],
   "source": [
    "#function to insert bitcoin_data\n",
    "def insert_bitcoin_data(conn, data):\n",
    "    try:\n",
    "        cursor = conn.cursor()\n",
    "        for index, row in data.iterrows():\n",
    "            cursor.execute('''\n",
    "                INSERT INTO bitcoin_prices(date, open, high, low, close, volume)\n",
    "                Values(%s, %s, %s, %s, %s, %s)\n",
    "                ON CONFLICT (date) DO NOTHING\n",
    "                ''',(index, row['open'], row['high'], row['low'], row['close'], row['volume']))\n",
    "        conn.commit()\n",
    "        cursor.close()\n",
    "        print(\"sucess\")\n",
    "    except Exception as e:\n",
    "        print(f'Error inserting Bitcoin data: {e}')\n",
    "        conn.rollback()"
   ]
  },
  {
   "cell_type": "code",
   "execution_count": 10,
   "metadata": {},
   "outputs": [],
   "source": [
    "#function to insert bitcoin_news\n",
    "def insert_bitcoin_news(conn, df):\n",
    "    try:\n",
    "        cursor = conn.cursor()\n",
    "        for index, row in df.iterrows():\n",
    "            cursor.execute('''\n",
    "                INSERT INTO bitcoin_news (id, date , headline, subheadline)\n",
    "                Values(%s, %s, %s, %s)\n",
    "                ON CONFLICT (id) DO NOTHING\n",
    "                ''',(index,row['date'], row['headline'], row['subheadline']))\n",
    "        conn.commit()\n",
    "        cursor.close()\n",
    "    except Exception as e:\n",
    "        print(f'Error inserting Bitcoin data: {e}')\n",
    "        conn.rollback()"
   ]
  },
  {
   "cell_type": "code",
   "execution_count": 11,
   "metadata": {},
   "outputs": [
    {
     "name": "stdout",
     "output_type": "stream",
     "text": [
      "sucess\n"
     ]
    }
   ],
   "source": [
    "#Main Function to orchestrate the data fetching and insertion\n",
    "def main():\n",
    "    # fetch Bitcoin Data\n",
    "    bitcoin_data = get_crypto_data('BTC','USD')\n",
    "\n",
    "    #Scrape Bitcoin News data\n",
    "    bitcoin_news = get_bitcoin_news()\n",
    "\n",
    "    #connect to postgresSQL database\n",
    "    conn = psycopg2.connect(Database_URL)\n",
    "\n",
    "    if conn:\n",
    "        #Insert data into database\n",
    "        insert_bitcoin_data(conn,bitcoin_data)\n",
    "        insert_bitcoin_news(conn,bitcoin_news)\n",
    "\n",
    "        #close the database connection\n",
    "        conn.close()\n",
    "    else:\n",
    "        print('Failed to connect to the database')\n",
    "\n",
    "if __name__== '__main__':\n",
    "    main()\n"
   ]
  }
 ],
 "metadata": {
  "kernelspec": {
   "display_name": "Python38",
   "language": "python",
   "name": "python3"
  },
  "language_info": {
   "codemirror_mode": {
    "name": "ipython",
    "version": 3
   },
   "file_extension": ".py",
   "mimetype": "text/x-python",
   "name": "python",
   "nbconvert_exporter": "python",
   "pygments_lexer": "ipython3",
   "version": "3.8.19"
  }
 },
 "nbformat": 4,
 "nbformat_minor": 2
}
